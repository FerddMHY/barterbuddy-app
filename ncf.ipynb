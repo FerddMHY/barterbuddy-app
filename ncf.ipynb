{
  "nbformat": 4,
  "nbformat_minor": 0,
  "metadata": {
    "colab": {
      "provenance": [],
      "gpuType": "T4"
    },
    "kernelspec": {
      "name": "python3",
      "display_name": "Python 3"
    },
    "language_info": {
      "name": "python"
    },
    "accelerator": "GPU"
  },
  "cells": [
    {
      "cell_type": "code",
      "execution_count": 1,
      "metadata": {
        "id": "pglhz3pCwaeF"
      },
      "outputs": [],
      "source": [
        "import numpy as np\n",
        "import pandas as pd\n",
        "import tensorflow as tf\n",
        "from sklearn.model_selection import train_test_split"
      ]
    },
    {
      "cell_type": "code",
      "source": [
        "search_history = pd.read_csv('csv/search_history.csv')"
      ],
      "metadata": {
        "id": "SII4lpVK0GI0"
      },
      "execution_count": 2,
      "outputs": []
    },
    {
      "cell_type": "code",
      "source": [
        "search_history['item_id'] = search_history['search'].astype('category').cat.codes"
      ],
      "metadata": {
        "id": "MgKM0cPX2qm1"
      },
      "execution_count": 3,
      "outputs": []
    },
    {
      "cell_type": "code",
      "source": [
        "user_ids = search_history['user_id'].values\n",
        "item_ids = search_history['item_id'].values\n",
        "\n",
        "train_data, test_data = train_test_split(search_history, test_size=0.2, random_state=30)\n",
        "\n",
        "train_user_ids = train_data['user_id'].values\n",
        "train_item_ids = train_data['item_id'].values\n",
        "\n",
        "test_user_ids = test_data['user_id'].values\n",
        "test_item_ids = test_data['item_id'].values"
      ],
      "metadata": {
        "id": "ZTqh0I693zMv"
      },
      "execution_count": 4,
      "outputs": []
    },
    {
      "cell_type": "code",
      "source": [
        "num_users = search_history['user_id'].nunique()\n",
        "num_items = search_history['item_id'].nunique()\n",
        "\n",
        "input_users = tf.keras.layers.Input(shape=(1,), name='user_input')\n",
        "input_items = tf.keras.layers.Input(shape=(1,), name='item_input')\n",
        "\n",
        "embed_users = tf.keras.layers.Embedding(input_dim=num_users, output_dim=16, name='user_embedding')(input_users)\n",
        "embed_items = tf.keras.layers.Embedding(input_dim=num_items, output_dim=16, name='item_embedding')(input_items)\n",
        "\n",
        "flat_users = tf.keras.layers.Flatten()(embed_users)\n",
        "flat_items = tf.keras.layers.Flatten()(embed_items)\n",
        "\n",
        "concat = tf.keras.layers.Concatenate()([flat_users, flat_items])\n",
        "dense = tf.keras.layers.Dense(16, activation='relu')(concat)\n",
        "dense = tf.keras.layers.Dense(8, activation='relu')(dense)\n",
        "output = tf.keras.layers.Dense(1, activation='sigmoid')(dense)\n",
        "\n",
        "model = tf.keras.Model([input_users, input_items], output)\n",
        "\n",
        "model.compile(loss='binary_crossentropy', optimizer='adam', metrics=['accuracy'])\n",
        "\n",
        "model.summary()"
      ],
      "metadata": {
        "colab": {
          "base_uri": "https://localhost:8080/"
        },
        "id": "Q4J1tyrMDQ1x",
        "outputId": "109f47d5-c66c-4f4f-defd-99ddc0487984"
      },
      "execution_count": 10,
      "outputs": [
        {
          "output_type": "stream",
          "name": "stdout",
          "text": [
            "Model: \"model_1\"\n",
            "__________________________________________________________________________________________________\n",
            " Layer (type)                Output Shape                 Param #   Connected to                  \n",
            "==================================================================================================\n",
            " user_input (InputLayer)     [(None, 1)]                  0         []                            \n",
            "                                                                                                  \n",
            " item_input (InputLayer)     [(None, 1)]                  0         []                            \n",
            "                                                                                                  \n",
            " user_embedding (Embedding)  (None, 1, 16)                3104      ['user_input[0][0]']          \n",
            "                                                                                                  \n",
            " item_embedding (Embedding)  (None, 1, 16)                320       ['item_input[0][0]']          \n",
            "                                                                                                  \n",
            " flatten_2 (Flatten)         (None, 16)                   0         ['user_embedding[0][0]']      \n",
            "                                                                                                  \n",
            " flatten_3 (Flatten)         (None, 16)                   0         ['item_embedding[0][0]']      \n",
            "                                                                                                  \n",
            " concatenate_1 (Concatenate  (None, 32)                   0         ['flatten_2[0][0]',           \n",
            " )                                                                   'flatten_3[0][0]']           \n",
            "                                                                                                  \n",
            " dense_4 (Dense)             (None, 16)                   528       ['concatenate_1[0][0]']       \n",
            "                                                                                                  \n",
            " dense_5 (Dense)             (None, 8)                    136       ['dense_4[0][0]']             \n",
            "                                                                                                  \n",
            " dense_6 (Dense)             (None, 1)                    9         ['dense_5[0][0]']             \n",
            "                                                                                                  \n",
            "==================================================================================================\n",
            "Total params: 4097 (16.00 KB)\n",
            "Trainable params: 4097 (16.00 KB)\n",
            "Non-trainable params: 0 (0.00 Byte)\n",
            "__________________________________________________________________________________________________\n"
          ]
        }
      ]
    },
    {
      "cell_type": "code",
      "source": [
        "train_labels = np.ones(len(train_user_ids))\n",
        "test_labels = np.ones(len(test_item_ids))\n",
        "\n",
        "model.fit([train_user_ids, train_item_ids], train_labels, validation_data=([test_user_ids, test_item_ids], test_labels), epochs=10, batch_size=2)"
      ],
      "metadata": {
        "colab": {
          "base_uri": "https://localhost:8080/"
        },
        "id": "wr0oawjQMqop",
        "outputId": "0770fb59-980f-4980-b658-a8b5ae780205"
      },
      "execution_count": 11,
      "outputs": [
        {
          "output_type": "stream",
          "name": "stdout",
          "text": [
            "Epoch 1/10\n",
            "120/120 [==============================] - 2s 8ms/step - loss: 0.4801 - accuracy: 0.9958 - val_loss: 0.2018 - val_accuracy: 1.0000\n",
            "Epoch 2/10\n",
            "120/120 [==============================] - 1s 5ms/step - loss: 0.0710 - accuracy: 1.0000 - val_loss: 0.0181 - val_accuracy: 1.0000\n",
            "Epoch 3/10\n",
            "120/120 [==============================] - 1s 5ms/step - loss: 0.0098 - accuracy: 1.0000 - val_loss: 0.0056 - val_accuracy: 1.0000\n",
            "Epoch 4/10\n",
            "120/120 [==============================] - 1s 5ms/step - loss: 0.0036 - accuracy: 1.0000 - val_loss: 0.0027 - val_accuracy: 1.0000\n",
            "Epoch 5/10\n",
            "120/120 [==============================] - 1s 7ms/step - loss: 0.0019 - accuracy: 1.0000 - val_loss: 0.0016 - val_accuracy: 1.0000\n",
            "Epoch 6/10\n",
            "120/120 [==============================] - 1s 5ms/step - loss: 0.0012 - accuracy: 1.0000 - val_loss: 0.0010 - val_accuracy: 1.0000\n",
            "Epoch 7/10\n",
            "120/120 [==============================] - 1s 6ms/step - loss: 7.7646e-04 - accuracy: 1.0000 - val_loss: 7.1698e-04 - val_accuracy: 1.0000\n",
            "Epoch 8/10\n",
            "120/120 [==============================] - 1s 8ms/step - loss: 5.5575e-04 - accuracy: 1.0000 - val_loss: 5.3153e-04 - val_accuracy: 1.0000\n",
            "Epoch 9/10\n",
            "120/120 [==============================] - 1s 8ms/step - loss: 4.1603e-04 - accuracy: 1.0000 - val_loss: 4.0846e-04 - val_accuracy: 1.0000\n",
            "Epoch 10/10\n",
            "120/120 [==============================] - 1s 8ms/step - loss: 3.2168e-04 - accuracy: 1.0000 - val_loss: 3.2404e-04 - val_accuracy: 1.0000\n"
          ]
        },
        {
          "output_type": "execute_result",
          "data": {
            "text/plain": [
              "<keras.src.callbacks.History at 0x7d4a2fd8f9a0>"
            ]
          },
          "metadata": {},
          "execution_count": 11
        }
      ]
    },
    {
      "cell_type": "code",
      "source": [],
      "metadata": {
        "id": "c-U2V30mOKDB"
      },
      "execution_count": null,
      "outputs": []
    }
  ]
}