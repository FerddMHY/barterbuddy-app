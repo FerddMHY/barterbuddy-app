{
  "cells": [
    {
      "cell_type": "code",
      "execution_count": 1,
      "metadata": {
        "id": "pglhz3pCwaeF"
      },
      "outputs": [],
      "source": [
        "import numpy as np\n",
        "import pandas as pd\n",
        "import tensorflow as tf\n",
        "from sklearn.model_selection import train_test_split"
      ]
    },
    {
      "cell_type": "code",
      "execution_count": 2,
      "metadata": {
        "id": "SII4lpVK0GI0"
      },
      "outputs": [],
      "source": [
        "search_history = pd.read_csv('search_history_short.csv')"
      ]
    },
    {
      "cell_type": "code",
      "execution_count": 3,
      "metadata": {
        "id": "MgKM0cPX2qm1"
      },
      "outputs": [],
      "source": [
        "search_history['item_id'] = search_history['search'].astype('category').cat.codes"
      ]
    },
    {
      "cell_type": "code",
      "execution_count": 4,
      "metadata": {
        "id": "ZTqh0I693zMv"
      },
      "outputs": [],
      "source": [
        "user_ids = search_history['user_id'].values\n",
        "item_ids = search_history['item_id'].values\n",
        "\n",
        "train_data, test_data = train_test_split(search_history, test_size=0.2, random_state=30)\n",
        "\n",
        "train_user_ids = train_data['user_id'].values\n",
        "train_item_ids = train_data['item_id'].values\n",
        "\n",
        "test_user_ids = test_data['user_id'].values\n",
        "test_item_ids = test_data['item_id'].values"
      ]
    },
    {
      "cell_type": "code",
      "execution_count": 5,
      "metadata": {
        "colab": {
          "base_uri": "https://localhost:8080/"
        },
        "id": "Q4J1tyrMDQ1x",
        "outputId": "7a305d06-8be2-48b6-fd48-6764a09b6b3c"
      },
      "outputs": [
        {
          "output_type": "stream",
          "name": "stdout",
          "text": [
            "Model: \"model\"\n",
            "__________________________________________________________________________________________________\n",
            " Layer (type)                Output Shape                 Param #   Connected to                  \n",
            "==================================================================================================\n",
            " user_input (InputLayer)     [(None, 1)]                  0         []                            \n",
            "                                                                                                  \n",
            " item_input (InputLayer)     [(None, 1)]                  0         []                            \n",
            "                                                                                                  \n",
            " user_embedding (Embedding)  (None, 1, 16)                1184      ['user_input[0][0]']          \n",
            "                                                                                                  \n",
            " item_embedding (Embedding)  (None, 1, 16)                320       ['item_input[0][0]']          \n",
            "                                                                                                  \n",
            " flatten (Flatten)           (None, 16)                   0         ['user_embedding[0][0]']      \n",
            "                                                                                                  \n",
            " flatten_1 (Flatten)         (None, 16)                   0         ['item_embedding[0][0]']      \n",
            "                                                                                                  \n",
            " concatenate (Concatenate)   (None, 32)                   0         ['flatten[0][0]',             \n",
            "                                                                     'flatten_1[0][0]']           \n",
            "                                                                                                  \n",
            " dense (Dense)               (None, 16)                   528       ['concatenate[0][0]']         \n",
            "                                                                                                  \n",
            " dense_1 (Dense)             (None, 8)                    136       ['dense[0][0]']               \n",
            "                                                                                                  \n",
            " dense_2 (Dense)             (None, 1)                    9         ['dense_1[0][0]']             \n",
            "                                                                                                  \n",
            "==================================================================================================\n",
            "Total params: 2177 (8.50 KB)\n",
            "Trainable params: 2177 (8.50 KB)\n",
            "Non-trainable params: 0 (0.00 Byte)\n",
            "__________________________________________________________________________________________________\n"
          ]
        }
      ],
      "source": [
        "num_users = search_history['user_id'].nunique()\n",
        "num_items = search_history['item_id'].nunique()\n",
        "\n",
        "input_users = tf.keras.layers.Input(shape=(1,), name='user_input')\n",
        "input_items = tf.keras.layers.Input(shape=(1,), name='item_input')\n",
        "\n",
        "embed_users = tf.keras.layers.Embedding(input_dim=num_users, output_dim=16, name='user_embedding')(input_users)\n",
        "embed_items = tf.keras.layers.Embedding(input_dim=num_items, output_dim=16, name='item_embedding')(input_items)\n",
        "\n",
        "flat_users = tf.keras.layers.Flatten()(embed_users)\n",
        "flat_items = tf.keras.layers.Flatten()(embed_items)\n",
        "\n",
        "concat = tf.keras.layers.Concatenate()([flat_users, flat_items])\n",
        "dense = tf.keras.layers.Dense(16, activation='relu')(concat)\n",
        "dense = tf.keras.layers.Dense(8, activation='relu')(dense)\n",
        "output = tf.keras.layers.Dense(1, activation='sigmoid')(dense)\n",
        "\n",
        "model = tf.keras.Model([input_users, input_items], output)\n",
        "\n",
        "model.compile(loss='binary_crossentropy', optimizer='adam', metrics=['accuracy'])\n",
        "\n",
        "model.summary()"
      ]
    },
    {
      "cell_type": "code",
      "execution_count": 6,
      "metadata": {
        "colab": {
          "base_uri": "https://localhost:8080/"
        },
        "id": "wr0oawjQMqop",
        "outputId": "634a8363-ec66-4f97-ae18-a6bf08be695f"
      },
      "outputs": [
        {
          "output_type": "stream",
          "name": "stdout",
          "text": [
            "Epoch 1/10\n",
            "120/120 [==============================] - 4s 7ms/step - loss: 0.5442 - accuracy: 0.9917 - val_loss: 0.2956 - val_accuracy: 1.0000\n",
            "Epoch 2/10\n",
            "120/120 [==============================] - 1s 6ms/step - loss: 0.1032 - accuracy: 1.0000 - val_loss: 0.0175 - val_accuracy: 1.0000\n",
            "Epoch 3/10\n",
            "120/120 [==============================] - 0s 4ms/step - loss: 0.0088 - accuracy: 1.0000 - val_loss: 0.0039 - val_accuracy: 1.0000\n",
            "Epoch 4/10\n",
            "120/120 [==============================] - 0s 4ms/step - loss: 0.0027 - accuracy: 1.0000 - val_loss: 0.0016 - val_accuracy: 1.0000\n",
            "Epoch 5/10\n",
            "120/120 [==============================] - 0s 4ms/step - loss: 0.0013 - accuracy: 1.0000 - val_loss: 8.9336e-04 - val_accuracy: 1.0000\n",
            "Epoch 6/10\n",
            "120/120 [==============================] - 1s 4ms/step - loss: 7.5299e-04 - accuracy: 1.0000 - val_loss: 5.5882e-04 - val_accuracy: 1.0000\n",
            "Epoch 7/10\n",
            "120/120 [==============================] - 0s 4ms/step - loss: 4.9012e-04 - accuracy: 1.0000 - val_loss: 3.7673e-04 - val_accuracy: 1.0000\n",
            "Epoch 8/10\n",
            "120/120 [==============================] - 0s 4ms/step - loss: 3.4156e-04 - accuracy: 1.0000 - val_loss: 2.7289e-04 - val_accuracy: 1.0000\n",
            "Epoch 9/10\n",
            "120/120 [==============================] - 0s 4ms/step - loss: 2.5089e-04 - accuracy: 1.0000 - val_loss: 2.0443e-04 - val_accuracy: 1.0000\n",
            "Epoch 10/10\n",
            "120/120 [==============================] - 1s 4ms/step - loss: 1.9085e-04 - accuracy: 1.0000 - val_loss: 1.5827e-04 - val_accuracy: 1.0000\n"
          ]
        },
        {
          "output_type": "execute_result",
          "data": {
            "text/plain": [
              "<keras.src.callbacks.History at 0x7b81ff6c37c0>"
            ]
          },
          "metadata": {},
          "execution_count": 6
        }
      ],
      "source": [
        "train_labels = np.ones(len(train_user_ids))\n",
        "test_labels = np.ones(len(test_item_ids))\n",
        "\n",
        "model.fit([train_user_ids, train_item_ids], train_labels, validation_data=([test_user_ids, test_item_ids], test_labels), epochs=10, batch_size=2)"
      ]
    },
    {
      "cell_type": "code",
      "execution_count": null,
      "metadata": {
        "id": "c-U2V30mOKDB"
      },
      "outputs": [],
      "source": []
    }
  ],
  "metadata": {
    "accelerator": "GPU",
    "colab": {
      "gpuType": "T4",
      "provenance": []
    },
    "kernelspec": {
      "display_name": "Python 3",
      "name": "python3"
    },
    "language_info": {
      "name": "python"
    }
  },
  "nbformat": 4,
  "nbformat_minor": 0
}