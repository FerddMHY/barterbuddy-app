{
  "cells": [
    {
      "cell_type": "code",
      "execution_count": 6,
      "metadata": {
        "id": "c9-R9c_-eT1J"
      },
      "outputs": [],
      "source": [
        "import pandas as pd\n",
        "import random"
      ]
    },
    {
      "cell_type": "code",
      "execution_count": 12,
      "metadata": {
        "id": "zgSvX1GTeod4"
      },
      "outputs": [],
      "source": [
        "transactions_df = pd.read_csv('csv/transactions.csv')\n",
        "posts_df = pd.read_csv('csv/posts.csv')\n",
        "users_df = pd.read_csv('csv/users.csv')\n",
        "interests_df = pd.read_csv('csv/interests.csv')"
      ]
    },
    {
      "cell_type": "code",
      "execution_count": null,
      "metadata": {
        "colab": {
          "base_uri": "https://localhost:8080/"
        },
        "id": "_xAJfpg_iThz",
        "outputId": "1dc437f1-6eb1-45bd-eea7-39c160be3acf"
      },
      "outputs": [
        {
          "name": "stdout",
          "output_type": "stream",
          "text": [
            "Jumlah duplikasi: 171\n"
          ]
        }
      ],
      "source": [
        "print(\"Jumlah duplikasi:\",  transactions_df['post_id'].duplicated().sum())"
      ]
    },
    {
      "cell_type": "code",
      "execution_count": null,
      "metadata": {
        "colab": {
          "base_uri": "https://localhost:8080/"
        },
        "id": "Efr7_ZdaiaYz",
        "outputId": "fd64aa1f-c7bb-42fc-d2a7-3628dd9047f3"
      },
      "outputs": [
        {
          "name": "stdout",
          "output_type": "stream",
          "text": [
            "Jumlah duplikasi: 0\n"
          ]
        }
      ],
      "source": [
        "transactions_df.drop_duplicates(subset=['post_id'], inplace=True)\n",
        "print(\"Jumlah duplikasi:\",  transactions_df['post_id'].duplicated().sum())"
      ]
    },
    {
      "cell_type": "code",
      "execution_count": null,
      "metadata": {
        "colab": {
          "base_uri": "https://localhost:8080/"
        },
        "id": "jlgGSfxzidTG",
        "outputId": "070d52b0-da31-42d2-c07c-038ca47f33f4"
      },
      "outputs": [
        {
          "name": "stdout",
          "output_type": "stream",
          "text": [
            "Total jumlah baris: 129\n"
          ]
        }
      ],
      "source": [
        "total_rows = transactions_df.shape[0]\n",
        "print(\"Total jumlah baris:\", total_rows)"
      ]
    },
    {
      "cell_type": "code",
      "execution_count": null,
      "metadata": {
        "colab": {
          "base_uri": "https://localhost:8080/"
        },
        "id": "7V5DPkA4ijui",
        "outputId": "7b9ad731-9a3a-420e-de75-3b4f766e3f9a"
      },
      "outputs": [
        {
          "data": {
            "text/plain": [
              "title\n",
              "Smartphone              32\n",
              "Lemari                  28\n",
              "Rak Buku                27\n",
              "Kursi                   27\n",
              "Sepeda                  24\n",
              "Jam Tangan              23\n",
              "Televisi                22\n",
              "Laptop                  19\n",
              "Kamera                  17\n",
              "Meja                    13\n",
              "Jasa Perawatan Hewan    11\n",
              "Les Bahasa Inggris      11\n",
              "Jasa Cuci Mobil          8\n",
              "Jasa Kebersihan          7\n",
              "Pelajaran Gitar          7\n",
              "Jasa Tukang Kebun        6\n",
              "Jasa Pindahan            6\n",
              "Jasa Fotografi           5\n",
              "Jasa Renovasi Rumah      4\n",
              "Les Matematika           3\n",
              "Name: count, dtype: int64"
            ]
          },
          "execution_count": 11,
          "metadata": {},
          "output_type": "execute_result"
        }
      ],
      "source": [
        "posts_df['title'].value_counts()"
      ]
    },
    {
      "cell_type": "code",
      "execution_count": 2,
      "metadata": {},
      "outputs": [],
      "source": [
        "search_history_df = pd.read_csv('csv/search_history.csv')"
      ]
    },
    {
      "cell_type": "code",
      "execution_count": 6,
      "metadata": {},
      "outputs": [
        {
          "data": {
            "text/html": [
              "<div>\n",
              "<style scoped>\n",
              "    .dataframe tbody tr th:only-of-type {\n",
              "        vertical-align: middle;\n",
              "    }\n",
              "\n",
              "    .dataframe tbody tr th {\n",
              "        vertical-align: top;\n",
              "    }\n",
              "\n",
              "    .dataframe thead th {\n",
              "        text-align: right;\n",
              "    }\n",
              "</style>\n",
              "<table border=\"1\" class=\"dataframe\">\n",
              "  <thead>\n",
              "    <tr style=\"text-align: right;\">\n",
              "      <th></th>\n",
              "      <th>id</th>\n",
              "      <th>user_id</th>\n",
              "      <th>search</th>\n",
              "    </tr>\n",
              "  </thead>\n",
              "  <tbody>\n",
              "    <tr>\n",
              "      <th>275</th>\n",
              "      <td>276</td>\n",
              "      <td>147</td>\n",
              "      <td>Jam Tangan</td>\n",
              "    </tr>\n",
              "    <tr>\n",
              "      <th>175</th>\n",
              "      <td>176</td>\n",
              "      <td>144</td>\n",
              "      <td>Sepeda</td>\n",
              "    </tr>\n",
              "    <tr>\n",
              "      <th>130</th>\n",
              "      <td>131</td>\n",
              "      <td>114</td>\n",
              "      <td>Kursi</td>\n",
              "    </tr>\n",
              "    <tr>\n",
              "      <th>185</th>\n",
              "      <td>186</td>\n",
              "      <td>256</td>\n",
              "      <td>Jasa Fotografi</td>\n",
              "    </tr>\n",
              "    <tr>\n",
              "      <th>219</th>\n",
              "      <td>220</td>\n",
              "      <td>134</td>\n",
              "      <td>Rak Buku</td>\n",
              "    </tr>\n",
              "  </tbody>\n",
              "</table>\n",
              "</div>"
            ],
            "text/plain": [
              "      id  user_id          search\n",
              "275  276      147      Jam Tangan\n",
              "175  176      144          Sepeda\n",
              "130  131      114           Kursi\n",
              "185  186      256  Jasa Fotografi\n",
              "219  220      134        Rak Buku"
            ]
          },
          "execution_count": 6,
          "metadata": {},
          "output_type": "execute_result"
        }
      ],
      "source": [
        "search_history_df.sample(5)"
      ]
    },
    {
      "cell_type": "code",
      "execution_count": 8,
      "metadata": {},
      "outputs": [
        {
          "data": {
            "text/plain": [
              "user_id\n",
              "195    5\n",
              "47     4\n",
              "98     4\n",
              "147    4\n",
              "256    3\n",
              "      ..\n",
              "112    1\n",
              "114    1\n",
              "115    1\n",
              "118    1\n",
              "141    1\n",
              "Name: id, Length: 194, dtype: int64"
            ]
          },
          "execution_count": 8,
          "metadata": {},
          "output_type": "execute_result"
        }
      ],
      "source": [
        "search_history_df.groupby(by='user_id').id.nunique().sort_values(ascending=False)"
      ]
    },
    {
      "cell_type": "code",
      "execution_count": 5,
      "metadata": {},
      "outputs": [
        {
          "data": {
            "text/plain": [
              "'csv/short_users.csv'"
            ]
          },
          "execution_count": 5,
          "metadata": {},
          "output_type": "execute_result"
        }
      ],
      "source": [
        "short_users_df = users_df.head(125)\n",
        "\n",
        "path = 'csv/users_short.csv'\n",
        "\n",
        "short_users_df.to_csv(path)\n",
        "\n",
        "path"
      ]
    },
    {
      "cell_type": "code",
      "execution_count": 10,
      "metadata": {},
      "outputs": [
        {
          "data": {
            "text/plain": [
              "'csv/posts_change.csv'"
            ]
          },
          "execution_count": 10,
          "metadata": {},
          "output_type": "execute_result"
        }
      ],
      "source": [
        "users_short_df = pd.read_csv('csv/users_short.csv')\n",
        "random_users = users_short_df['id'].sample(n=125, replace=True).tolist()\n",
        "\n",
        "posts_df['user_id'] = [random.choice(random_users) for _ in range(len(posts_df))]\n",
        "\n",
        "output_posts_path = 'csv/posts_change.csv'\n",
        "posts_df.to_csv(output_posts_path, index=False)\n",
        "\n",
        "output_posts_path"
      ]
    },
    {
      "cell_type": "code",
      "execution_count": 13,
      "metadata": {},
      "outputs": [
        {
          "data": {
            "text/plain": [
              "'csv/interest_change.csv'"
            ]
          },
          "execution_count": 13,
          "metadata": {},
          "output_type": "execute_result"
        }
      ],
      "source": [
        "users_short_df = pd.read_csv('csv/users_short.csv')\n",
        "random_users = users_short_df['id'].sample(n=125, replace=True).tolist()\n",
        "\n",
        "interests_df['user_id'] = [random.choice(random_users) for _ in range(len(interests_df))]\n",
        "\n",
        "output_interest_path = 'csv/interest_change.csv'\n",
        "interests_df.to_csv(output_interest_path, index=False)\n",
        "\n",
        "output_interest_path"
      ]
    }
  ],
  "metadata": {
    "colab": {
      "provenance": []
    },
    "kernelspec": {
      "display_name": "Python 3",
      "name": "python3"
    },
    "language_info": {
      "codemirror_mode": {
        "name": "ipython",
        "version": 3
      },
      "file_extension": ".py",
      "mimetype": "text/x-python",
      "name": "python",
      "nbconvert_exporter": "python",
      "pygments_lexer": "ipython3",
      "version": "3.12.3"
    }
  },
  "nbformat": 4,
  "nbformat_minor": 0
}
