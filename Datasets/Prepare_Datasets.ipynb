{
  "nbformat": 4,
  "nbformat_minor": 0,
  "metadata": {
    "colab": {
      "provenance": []
    },
    "kernelspec": {
      "name": "python3",
      "display_name": "Python 3"
    },
    "language_info": {
      "name": "python"
    }
  },
  "cells": [
    {
      "cell_type": "code",
      "execution_count": 1,
      "metadata": {
        "id": "c9-R9c_-eT1J"
      },
      "outputs": [],
      "source": [
        "import pandas as pd"
      ]
    },
    {
      "cell_type": "code",
      "source": [
        "transactions_df = pd.read_csv('transactions.csv')\n",
        "posts_df = pd.read_csv('posts.csv')"
      ],
      "metadata": {
        "id": "zgSvX1GTeod4"
      },
      "execution_count": 6,
      "outputs": []
    },
    {
      "cell_type": "code",
      "source": [
        "print(\"Jumlah duplikasi:\",  transactions_df['post_id'].duplicated().sum())"
      ],
      "metadata": {
        "colab": {
          "base_uri": "https://localhost:8080/"
        },
        "id": "_xAJfpg_iThz",
        "outputId": "1dc437f1-6eb1-45bd-eea7-39c160be3acf"
      },
      "execution_count": 8,
      "outputs": [
        {
          "output_type": "stream",
          "name": "stdout",
          "text": [
            "Jumlah duplikasi: 171\n"
          ]
        }
      ]
    },
    {
      "cell_type": "code",
      "source": [
        "transactions_df.drop_duplicates(subset=['post_id'], inplace=True)\n",
        "print(\"Jumlah duplikasi:\",  transactions_df['post_id'].duplicated().sum())"
      ],
      "metadata": {
        "colab": {
          "base_uri": "https://localhost:8080/"
        },
        "id": "Efr7_ZdaiaYz",
        "outputId": "fd64aa1f-c7bb-42fc-d2a7-3628dd9047f3"
      },
      "execution_count": 9,
      "outputs": [
        {
          "output_type": "stream",
          "name": "stdout",
          "text": [
            "Jumlah duplikasi: 0\n"
          ]
        }
      ]
    },
    {
      "cell_type": "code",
      "source": [
        "total_rows = transactions_df.shape[0]\n",
        "print(\"Total jumlah baris:\", total_rows)"
      ],
      "metadata": {
        "colab": {
          "base_uri": "https://localhost:8080/"
        },
        "id": "jlgGSfxzidTG",
        "outputId": "070d52b0-da31-42d2-c07c-038ca47f33f4"
      },
      "execution_count": 10,
      "outputs": [
        {
          "output_type": "stream",
          "name": "stdout",
          "text": [
            "Total jumlah baris: 129\n"
          ]
        }
      ]
    },
    {
      "cell_type": "code",
      "source": [
        "posts_df['title'].value_counts()"
      ],
      "metadata": {
        "colab": {
          "base_uri": "https://localhost:8080/"
        },
        "id": "7V5DPkA4ijui",
        "outputId": "7b9ad731-9a3a-420e-de75-3b4f766e3f9a"
      },
      "execution_count": 11,
      "outputs": [
        {
          "output_type": "execute_result",
          "data": {
            "text/plain": [
              "title\n",
              "Smartphone              32\n",
              "Lemari                  28\n",
              "Rak Buku                27\n",
              "Kursi                   27\n",
              "Sepeda                  24\n",
              "Jam Tangan              23\n",
              "Televisi                22\n",
              "Laptop                  19\n",
              "Kamera                  17\n",
              "Meja                    13\n",
              "Jasa Perawatan Hewan    11\n",
              "Les Bahasa Inggris      11\n",
              "Jasa Cuci Mobil          8\n",
              "Jasa Kebersihan          7\n",
              "Pelajaran Gitar          7\n",
              "Jasa Tukang Kebun        6\n",
              "Jasa Pindahan            6\n",
              "Jasa Fotografi           5\n",
              "Jasa Renovasi Rumah      4\n",
              "Les Matematika           3\n",
              "Name: count, dtype: int64"
            ]
          },
          "metadata": {},
          "execution_count": 11
        }
      ]
    }
  ]
}